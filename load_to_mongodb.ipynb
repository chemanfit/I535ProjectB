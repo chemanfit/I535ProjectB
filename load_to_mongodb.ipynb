{
 "cells": [
  {
   "cell_type": "code",
   "execution_count": 1,
   "metadata": {},
   "outputs": [],
   "source": [
    "import sqlite3\n",
    "import pandas as pd\n",
    "import numpy as np\n",
    "from pymongo import MongoClient\n",
    "from datetime import datetime"
   ]
  },
  {
   "cell_type": "code",
   "execution_count": 2,
   "metadata": {},
   "outputs": [],
   "source": [
    "conn=sqlite3.connect('archive/FPA_FOD_20170508.sqlite')"
   ]
  },
  {
   "cell_type": "code",
   "execution_count": 3,
   "metadata": {},
   "outputs": [],
   "source": [
    "df=pd.read_sql(\"\"\"\n",
    "SELECT * from fires\"\"\", con=conn)"
   ]
  },
  {
   "cell_type": "code",
   "execution_count": 9,
   "metadata": {},
   "outputs": [],
   "source": [
    "df['CONT_TIME'].fillna(\"1200\", inplace=True)\n",
    "df['DISCOVERY_TIME'].fillna(\"1200\", inplace=True)"
   ]
  },
  {
   "cell_type": "code",
   "execution_count": 10,
   "metadata": {},
   "outputs": [],
   "source": [
    "epoch=pd.to_datetime(0, unit='s').to_julian_date()\n",
    "def fix_time(date, time):\n",
    "    \n",
    "    if np.isnan(date):\n",
    "         return None\n",
    "    else:\n",
    "        date=pd.to_datetime(date - epoch, unit='D').strftime(\"%Y-%m-%d\")        \n",
    "        return pd.to_datetime(date + ' ' + time)\n",
    "\n",
    "#combine the dates and times into one column as a complete datetime\n",
    "#df['DISCOVERY_DATE']=pd.to_datetime(df['DISCOVERY_DATE'].astype(str) + ' ' + df['DISCOVERY_TIME'].astype(str))\n",
    "#df['CONT_DATE']=pd.to_datetime(df['CONT_DATE'].astype(str) + ' ' + df['CONT_TIME'].astype(str))\n",
    "\n",
    "df['DISCOVERY_DATE']=df.apply(lambda x: fix_time(x['DISCOVERY_DATE'],x['DISCOVERY_TIME']), axis=1)"
   ]
  },
  {
   "cell_type": "code",
   "execution_count": 11,
   "metadata": {},
   "outputs": [],
   "source": [
    "df['CONT_DATE']=df.apply(lambda x: fix_time(x['CONT_DATE'],x['CONT_TIME']), axis=1)"
   ]
  },
  {
   "cell_type": "code",
   "execution_count": 12,
   "metadata": {},
   "outputs": [],
   "source": [
    "#df['CONT_DATE'].fillna(\"None\", inplace=True)\n",
    "#df['DISCOVERY_DATE'].fillna(\"None\", inplace=True)\n",
    "\n",
    "df['CONT_DATE'] = df['CONT_DATE'].astype(object).where(df['CONT_DATE'].notnull(), None)\n",
    "df['DISCOVERY_DATE'] = df['DISCOVERY_DATE'].astype(object).where(df['DISCOVERY_DATE'].notnull(), None)"
   ]
  },
  {
   "cell_type": "code",
   "execution_count": 14,
   "metadata": {},
   "outputs": [],
   "source": [
    "client=MongoClient('mongodb://famp.fishermenmedia.com:27017/')\n",
    "db=client['fires']\n",
    "firesCollection=db['fires']"
   ]
  },
  {
   "cell_type": "code",
   "execution_count": 15,
   "metadata": {},
   "outputs": [],
   "source": [
    "df.reset_index(inplace=True)"
   ]
  },
  {
   "cell_type": "code",
   "execution_count": 16,
   "metadata": {},
   "outputs": [],
   "source": [
    "df_dict=df.to_dict(\"records\")"
   ]
  },
  {
   "cell_type": "code",
   "execution_count": 17,
   "metadata": {},
   "outputs": [
    {
     "data": {
      "text/plain": [
       "<pymongo.results.InsertManyResult at 0x13f49a802c8>"
      ]
     },
     "execution_count": 17,
     "metadata": {},
     "output_type": "execute_result"
    }
   ],
   "source": [
    "firesCollection.insert_many(df_dict)"
   ]
  },
  {
   "cell_type": "code",
   "execution_count": 18,
   "metadata": {},
   "outputs": [
    {
     "data": {
      "text/plain": [
       "1880465"
      ]
     },
     "execution_count": 18,
     "metadata": {},
     "output_type": "execute_result"
    }
   ],
   "source": [
    "firesCollection.count_documents({})"
   ]
  },
  {
   "cell_type": "code",
   "execution_count": null,
   "metadata": {},
   "outputs": [],
   "source": []
  }
 ],
 "metadata": {
  "kernelspec": {
   "display_name": "Python 3",
   "language": "python",
   "name": "python3"
  },
  "language_info": {
   "codemirror_mode": {
    "name": "ipython",
    "version": 3
   },
   "file_extension": ".py",
   "mimetype": "text/x-python",
   "name": "python",
   "nbconvert_exporter": "python",
   "pygments_lexer": "ipython3",
   "version": "3.7.1"
  }
 },
 "nbformat": 4,
 "nbformat_minor": 2
}
